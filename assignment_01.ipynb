{
 "cells": [
  {
   "cell_type": "code",
   "execution_count": 4,
   "metadata": {},
   "outputs": [],
   "source": [
    "import warnings\n",
    "warnings.filterwarnings(\"ignore\")"
   ]
  },
  {
   "cell_type": "markdown",
   "metadata": {},
   "source": [
    "# Packages"
   ]
  },
  {
   "cell_type": "code",
   "execution_count": 3,
   "metadata": {},
   "outputs": [],
   "source": [
    "import mysql.connector as sqLtor\n",
    "\n",
    "import csv\n",
    "import pandas as pd"
   ]
  },
  {
   "cell_type": "markdown",
   "metadata": {},
   "source": [
    "# Dot Environmen"
   ]
  },
  {
   "cell_type": "code",
   "execution_count": 2,
   "metadata": {},
   "outputs": [],
   "source": [
    "# Actual API key is stored in a .env file.  Not good to store API key directly in script.\n",
    "import os\n",
    "from dotenv import load_dotenv\n",
    "\n",
    "load_dotenv()\n",
    "user = os.environ.get(\"user\")\n",
    "password = os.environ.get(\"password\")"
   ]
  },
  {
   "cell_type": "markdown",
   "metadata": {},
   "source": [
    "# SQL Connection"
   ]
  },
  {
   "cell_type": "markdown",
   "metadata": {},
   "source": [
    "## Creating Database `org`"
   ]
  },
  {
   "cell_type": "code",
   "execution_count": 5,
   "metadata": {},
   "outputs": [],
   "source": [
    "mycon0 = sqLtor.connect(host=\"localhost\", user=user, passwd=password)\n",
    "mycursor0 = mycon0.cursor()"
   ]
  },
  {
   "cell_type": "code",
   "execution_count": 6,
   "metadata": {},
   "outputs": [
    {
     "name": "stdout",
     "output_type": "stream",
     "text": [
      "('ecom',)\n",
      "('information_schema',)\n",
      "('mysql',)\n",
      "('performance_schema',)\n",
      "('python_db',)\n",
      "('sys',)\n"
     ]
    }
   ],
   "source": [
    "mycursor0.execute(\"SHOW DATABASES\")\n",
    "\n",
    "for x in mycursor0:\n",
    "  print(x)"
   ]
  },
  {
   "cell_type": "code",
   "execution_count": 7,
   "metadata": {},
   "outputs": [],
   "source": [
    "mycursor0.execute(\"CREATE DATABASE org;\")"
   ]
  },
  {
   "cell_type": "code",
   "execution_count": 8,
   "metadata": {},
   "outputs": [
    {
     "data": {
      "text/plain": [
       "True"
      ]
     },
     "execution_count": 8,
     "metadata": {},
     "output_type": "execute_result"
    }
   ],
   "source": [
    "mycursor0.close()"
   ]
  },
  {
   "cell_type": "markdown",
   "metadata": {},
   "source": [
    "## Connect to Database `org`"
   ]
  },
  {
   "cell_type": "code",
   "execution_count": 5,
   "metadata": {},
   "outputs": [],
   "source": [
    "mycon = sqLtor.connect(host=\"localhost\", user=user, passwd=password, database=\"org\")"
   ]
  },
  {
   "cell_type": "code",
   "execution_count": 6,
   "metadata": {},
   "outputs": [],
   "source": [
    "cursor = mycon.cursor()"
   ]
  },
  {
   "cell_type": "markdown",
   "metadata": {},
   "source": [
    "### Create tables"
   ]
  },
  {
   "cell_type": "code",
   "execution_count": 20,
   "metadata": {},
   "outputs": [],
   "source": [
    "cursor.execute(\"\"\"\n",
    "CREATE TABLE Customers ( \n",
    "    CustomerID INT PRIMARY KEY, \n",
    "    Name VARCHAR(255),\n",
    "    Email VARCHAR(255),\n",
    "    JoinDate DATE );\n",
    "\"\"\")"
   ]
  },
  {
   "cell_type": "code",
   "execution_count": 21,
   "metadata": {},
   "outputs": [],
   "source": [
    "cursor.execute(\"\"\"\n",
    "CREATE TABLE Products ( \n",
    "    ProductID INT PRIMARY KEY, \n",
    "    Name VARCHAR(255), \n",
    "    Category VARCHAR(255), \n",
    "    Price DECIMAL(10, 2)\n",
    ");\n",
    "\"\"\")"
   ]
  },
  {
   "cell_type": "code",
   "execution_count": 22,
   "metadata": {},
   "outputs": [],
   "source": [
    "cursor.execute(\"\"\"\n",
    "CREATE TABLE Orders (\n",
    "    OrderID INT PRIMARY KEY,\n",
    "    CustomerID INT,\n",
    "    OrderDate DATE,\n",
    "    TotalAmount DECIMAL(10, 2),\n",
    "    FOREIGN KEY (CustomerID) REFERENCES Customers(CustomerID)\n",
    ");\n",
    "\"\"\")"
   ]
  },
  {
   "cell_type": "code",
   "execution_count": 23,
   "metadata": {},
   "outputs": [],
   "source": [
    "cursor.execute(\"\"\"\n",
    "CREATE TABLE OrderDetails ( \n",
    "    OrderDetailID INT PRIMARY KEY, \n",
    "    OrderID INT,\n",
    "    ProductID INT,\n",
    "    Quantity INT,\n",
    "    PricePerUnit DECIMAL(10, 2),\n",
    "    FOREIGN KEY (OrderID) REFERENCES Orders(OrderID), \n",
    "    FOREIGN KEY (ProductID) REFERENCES Products(ProductID)\n",
    ");\n",
    "\"\"\")"
   ]
  },
  {
   "cell_type": "code",
   "execution_count": 24,
   "metadata": {},
   "outputs": [
    {
     "name": "stdout",
     "output_type": "stream",
     "text": [
      "('Customers',)\n",
      "('OrderDetails',)\n",
      "('Orders',)\n",
      "('Products',)\n"
     ]
    }
   ],
   "source": [
    "cursor.execute(\"SHOW TABLES;\")\n",
    "data = cursor.fetchall()\n",
    "for row in data:\n",
    "    print(row)"
   ]
  },
  {
   "cell_type": "code",
   "execution_count": 18,
   "metadata": {},
   "outputs": [],
   "source": [
    "# cursor.execute(\"DROP TABLE Customers;\")"
   ]
  },
  {
   "cell_type": "markdown",
   "metadata": {},
   "source": [
    "### Insert data into tables"
   ]
  },
  {
   "cell_type": "markdown",
   "metadata": {},
   "source": [
    "#### Customers"
   ]
  },
  {
   "cell_type": "code",
   "execution_count": 25,
   "metadata": {},
   "outputs": [],
   "source": [
    "customers = [\n",
    "    \"(1, 'Michelle Gonzalez', 'michellegonzalez@example.net', '2021-01-28')\",\n",
    "    \"(2, 'Lauren Butler', 'laurenbutler@example.org', '2021-07-07')\",\n",
    "    \"(3, 'Daniel Hunt', 'danielhunt@example.com', '2021-11-09')\",\n",
    "    \"(4, 'James Clark', 'jamesclark@example.org', '2019-05-11')\",\n",
    "    \"(5, 'Stephanie Monroe', 'stephaniemonroe@example.net', '2021-05-24')\",\n",
    "    \"(6, 'Cynthia Shelton', 'cynthiashelton@example.org', '2022-06-09')\",\n",
    "    \"(7, 'Anthony Wong', 'anthonywong@example.org', '2019-08-31')\",\n",
    "    \"(8, 'Fred Hopkins', 'fredhopkins@example.org', '2021-10-06')\",\n",
    "    \"(9, 'Glenn Vasquez', 'glennvasquez@example.com', '2021-02-12')\",\n",
    "    \"(10, 'Scott Weaver', 'scottweaver@example.net', '2019-11-23')\",\n",
    "]"
   ]
  },
  {
   "cell_type": "code",
   "execution_count": 26,
   "metadata": {},
   "outputs": [],
   "source": [
    "for customer in customers:\n",
    "    cursor.execute(f\"\"\"\n",
    "    INSERT INTO Customers(CustomerID, Name, Email, JoinDate)\n",
    "                   VALUES{customer}\n",
    "    \"\"\")"
   ]
  },
  {
   "cell_type": "markdown",
   "metadata": {},
   "source": [
    "#### Products"
   ]
  },
  {
   "cell_type": "code",
   "execution_count": 27,
   "metadata": {},
   "outputs": [],
   "source": [
    "products = [\n",
    "    '(1, \"C-IN2 Men\\'s Pop Color Street Jock\", \"Active\", 17.0)',\n",
    "    '(2, \"Carole Hochman Women\\'s Long Zip Robe\",  \"Sleep & Lounge\", 79)',\n",
    "    \"(3, 'Harbor Bay Big & Tall 2-Pack Plaid Woven Boxers', 'Underwear', 23.0)\",\n",
    "    \"(4, 'Ralph Lauren Mens SB 2B Solid Navy Blue Wool Suit', 'Suits & Sport Coats', 319.99)\",\n",
    "    \"(5, 'Aimee Gowns Original Bra-less Nursing Gown', 'Sleep & Lounge', 39.96)\", \n",
    "    \"(6, 'Premium White Above Ankle Toe Socks', 'Socks', 7.5)\",\n",
    "    '(7, \"Mod-O-Doc Women\\'s Big Cord Peacoat\", \"Outerwear & Coats\", 170.0)',\n",
    "    '(8, \"True Religion Men\\'s Geno Baja Slim Jean\", \"Jeans\", 264.0)',\n",
    "    '(9, \"Larry Levine Women\\'s Maxi Length Hooded Down Jacket\", \"Outerwear & Coats\", 118.75)',\n",
    "    '(10, \"HUGO BOSS Men\\'s Woven Long Elastic Pant\", \"Sleep & Lounge\", 34.30)',\n",
    "    '(11, \"Michael Kors Men\\'s Waffle Stitch Full Zip With Mock Neck\", \"Sweaters\", 185.86)',\n",
    "    '(12, \"HUGO BOSS Men\\'s Contrasting Stripe Crew Sock\", \"Socks\", 13.0)',\n",
    "    '(13, \"Duofold Men\\'s Big-Tall Heavy Weight Plus Crew Thermal Top\", \"Active\", 33.98)',\n",
    "    \"(14, 'Allegra K Ladies Elastic Waist Sleeveless Side Pocket Tunic Jumpsuit Light Green XS', 'Jumpsuits & Rompers', 10.21)\",\n",
    "    \"(15, 'KEEN Concord Stripe Crew Lite Sock', 'Socks & Hosiery', 17.0)\",\n",
    "    '(16, \"Bobi Women\\'s Modal Jersey Cowl Neck Dress\", \"Dresses\", 60.0)',\n",
    "    '(17, \"Oakley Men\\'s Flak Jacket XLJ Golf Sunglasses\", \"Accessories\", 150.0)'\n",
    "]"
   ]
  },
  {
   "cell_type": "code",
   "execution_count": 28,
   "metadata": {},
   "outputs": [],
   "source": [
    "for product in products:\n",
    "    cursor.execute(f\"\"\"\n",
    "    INSERT INTO Products(ProductID, Name, Category, Price)\n",
    "                   VALUES{product};\n",
    "    \"\"\")"
   ]
  },
  {
   "cell_type": "markdown",
   "metadata": {},
   "source": [
    "#### Orders"
   ]
  },
  {
   "cell_type": "code",
   "execution_count": 29,
   "metadata": {},
   "outputs": [],
   "source": [
    "orders = [\n",
    "    \"(1, 5, '2021-07-23', 110.16)\",\n",
    "    \"(2, 9, '2024-02-18', 191.48)\",\n",
    "    \"(3, 7, '2020-07-30', 264)\",\n",
    "    \"(4, 2, '2023-03-27', 17)\",\n",
    "    \"(5, 4, '2022-11-12', 17)\",\n",
    "    \"(6, 10, '2024-04-04', 319.98)\",\n",
    "    \"(7, 3, '2022-07-19', 198.85)\",\n",
    "    \"(8, 6, '2023-11-04', 170.0)\",\n",
    "    \"(9, 7, '2023-12-17', 57.29)\",\n",
    "    \"(10, 1, '2022-03-06', 197.75)\"\n",
    "]"
   ]
  },
  {
   "cell_type": "code",
   "execution_count": 30,
   "metadata": {},
   "outputs": [],
   "source": [
    "for order in orders:\n",
    "    cursor.execute(f\"\"\"\n",
    "    INSERT INTO Orders(OrderID, CustomerID, OrderDate, TotalAmount)\n",
    "                   VALUES{order};\n",
    "    \"\"\")"
   ]
  },
  {
   "cell_type": "markdown",
   "metadata": {},
   "source": [
    "#### OrderDetails"
   ]
  },
  {
   "cell_type": "code",
   "execution_count": 36,
   "metadata": {},
   "outputs": [],
   "source": [
    "orderDetails = [\n",
    "    \"(1, 1, 5, 1, 39.95)\",\n",
    "    \"(2, 4, 15, 1, 17.0)\",\n",
    "    \"(3, 2, 17, 1, 150.0)\",\n",
    "    \"(4, 10, 2, 1, 79.0)\",\n",
    "    \"(5, 10, 9, 1, 118.75)\",\n",
    "    \"(6, 1, 16, 1, 60.0)\",\n",
    "    \"(7, 9, 10, 1, 34.3)\",\n",
    "    \"(8, 6, 4, 1, 319.98)\",\n",
    "    \"(9, 9, 3, 1, 23.0)\",\n",
    "    \"(10, 2, 6, 1, 7.5)\",\n",
    "    \"(11, 5, 1, 1, 17.0)\",\n",
    "    \"(12, 1, 14, 1, 10.21)\",\n",
    "    \"(13, 3, 8, 1, 264.0)\",\n",
    "    \"(14, 7, 11, 1, 185.85)\",\n",
    "    \"(15, 7, 12, 1, 13.0)\",\n",
    "    \"(16, 2, 13, 1, 33.98)\",\n",
    "    \"(17, 8, 7, 1, 170.0)\",\n",
    "]"
   ]
  },
  {
   "cell_type": "code",
   "execution_count": 37,
   "metadata": {},
   "outputs": [],
   "source": [
    "for orderDetail in orderDetails:\n",
    "    cursor.execute(f\"\"\"\n",
    "    INSERT INTO OrderDetails(OrderDetailID, OrderID, ProductID, Quantity, PricePerUnit)\n",
    "                   VALUES{orderDetail};\n",
    "    \"\"\")"
   ]
  },
  {
   "cell_type": "code",
   "execution_count": 44,
   "metadata": {},
   "outputs": [],
   "source": [
    "cursor.execute(\"FLUSH TABLES;\")"
   ]
  },
  {
   "cell_type": "code",
   "execution_count": 35,
   "metadata": {},
   "outputs": [],
   "source": [
    "cursor.execute(\"SELECT * FROM OrderDetails\")\n",
    "data = cursor.fetchall()\n",
    "for row in data:\n",
    "    print(row)"
   ]
  },
  {
   "cell_type": "markdown",
   "metadata": {},
   "source": [
    "### Queries"
   ]
  },
  {
   "cell_type": "markdown",
   "metadata": {},
   "source": [
    "#### Basics"
   ]
  },
  {
   "cell_type": "markdown",
   "metadata": {},
   "source": [
    "1.1. List all customers. "
   ]
  },
  {
   "cell_type": "code",
   "execution_count": 13,
   "metadata": {},
   "outputs": [
    {
     "name": "stdout",
     "output_type": "stream",
     "text": [
      "(1, 'Michelle Gonzalez', 'michellegonzalez@example.net', datetime.date(2021, 1, 28))\n",
      "(2, 'Lauren Butler', 'laurenbutler@example.org', datetime.date(2021, 7, 7))\n",
      "(3, 'Daniel Hunt', 'danielhunt@example.com', datetime.date(2021, 11, 9))\n",
      "(4, 'James Clark', 'jamesclark@example.org', datetime.date(2019, 5, 11))\n",
      "(5, 'Stephanie Monroe', 'stephaniemonroe@example.net', datetime.date(2021, 5, 24))\n",
      "(6, 'Cynthia Shelton', 'cynthiashelton@example.org', datetime.date(2022, 6, 9))\n",
      "(7, 'Anthony Wong', 'anthonywong@example.org', datetime.date(2019, 8, 31))\n",
      "(8, 'Fred Hopkins', 'fredhopkins@example.org', datetime.date(2021, 10, 6))\n",
      "(9, 'Glenn Vasquez', 'glennvasquez@example.com', datetime.date(2021, 2, 12))\n",
      "(10, 'Scott Weaver', 'scottweaver@example.net', datetime.date(2019, 11, 23))\n"
     ]
    }
   ],
   "source": [
    "cursor.execute(\"SELECT * FROM Customers;\")\n",
    "data = cursor.fetchall()\n",
    "for row in data:\n",
    "    print(row)"
   ]
  },
  {
   "cell_type": "markdown",
   "metadata": {},
   "source": [
    "1.2. Show all products in the 'Active' category"
   ]
  },
  {
   "cell_type": "code",
   "execution_count": 14,
   "metadata": {},
   "outputs": [
    {
     "name": "stdout",
     "output_type": "stream",
     "text": [
      "(1, \"C-IN2 Men's Pop Color Street Jock\", 'Active', Decimal('17.00'))\n",
      "(13, \"Duofold Men's Big-Tall Heavy Weight Plus Crew Thermal Top\", 'Active', Decimal('33.98'))\n"
     ]
    }
   ],
   "source": [
    "cursor.execute(\"SELECT * FROM Products WHERE category='Active';\")\n",
    "data = cursor.fetchall()\n",
    "for row in data:\n",
    "    print(row)"
   ]
  },
  {
   "cell_type": "markdown",
   "metadata": {},
   "source": [
    "1.3. Find the total number of orders placed."
   ]
  },
  {
   "cell_type": "code",
   "execution_count": 15,
   "metadata": {},
   "outputs": [
    {
     "name": "stdout",
     "output_type": "stream",
     "text": [
      "(10,)\n"
     ]
    }
   ],
   "source": [
    "cursor.execute(\"SELECT COUNT(*) FROM Orders;\")\n",
    "data = cursor.fetchall()\n",
    "for row in data:\n",
    "    print(row)"
   ]
  },
  {
   "cell_type": "markdown",
   "metadata": {},
   "source": [
    "1.4. Display the details of the most recent order."
   ]
  },
  {
   "cell_type": "code",
   "execution_count": 18,
   "metadata": {},
   "outputs": [
    {
     "name": "stdout",
     "output_type": "stream",
     "text": [
      "(8, 6, 4, 1, Decimal('319.98'))\n"
     ]
    }
   ],
   "source": [
    "cursor.execute(\"\"\"\n",
    "SELECT * FROM OrderDetails \n",
    "    WHERE OrderID=(SELECT OrderID FROM \n",
    "               (SELECT * FROM Orders WHERE OrderDate=(SELECT MAX(OrderDate) FROM Orders)) ord1);\n",
    "\"\"\")\n",
    "data = cursor.fetchall()\n",
    "for row in data:\n",
    "    print(row)"
   ]
  },
  {
   "cell_type": "markdown",
   "metadata": {},
   "source": [
    "#### Joins and Relationships"
   ]
  },
  {
   "cell_type": "markdown",
   "metadata": {},
   "source": [
    "2.1. List all products along with the names of the customers who ordered them."
   ]
  },
  {
   "cell_type": "code",
   "execution_count": 12,
   "metadata": {},
   "outputs": [
    {
     "name": "stdout",
     "output_type": "stream",
     "text": [
      "(2, \"Carole Hochman Women's Long Zip Robe\", 'Sleep & Lounge', Decimal('79.00'), 'Michelle Gonzalez')\n",
      "(9, \"Larry Levine Women's Maxi Length Hooded Down Jacket\", 'Outerwear & Coats', Decimal('118.75'), 'Michelle Gonzalez')\n",
      "(15, 'KEEN Concord Stripe Crew Lite Sock', 'Socks & Hosiery', Decimal('17.00'), 'Lauren Butler')\n",
      "(11, \"Michael Kors Men's Waffle Stitch Full Zip With Mock Neck\", 'Sweaters', Decimal('185.86'), 'Daniel Hunt')\n",
      "(12, \"HUGO BOSS Men's Contrasting Stripe Crew Sock\", 'Socks', Decimal('13.00'), 'Daniel Hunt')\n",
      "(1, \"C-IN2 Men's Pop Color Street Jock\", 'Active', Decimal('17.00'), 'James Clark')\n",
      "(5, 'Aimee Gowns Original Bra-less Nursing Gown', 'Sleep & Lounge', Decimal('39.96'), 'Stephanie Monroe')\n",
      "(16, \"Bobi Women's Modal Jersey Cowl Neck Dress\", 'Dresses', Decimal('60.00'), 'Stephanie Monroe')\n",
      "(14, 'Allegra K Ladies Elastic Waist Sleeveless Side Pocket Tunic Jumpsuit Light Green XS', 'Jumpsuits & Rompers', Decimal('10.21'), 'Stephanie Monroe')\n",
      "(7, \"Mod-O-Doc Women's Big Cord Peacoat\", 'Outerwear & Coats', Decimal('170.00'), 'Cynthia Shelton')\n",
      "(8, \"True Religion Men's Geno Baja Slim Jean\", 'Jeans', Decimal('264.00'), 'Anthony Wong')\n",
      "(10, \"HUGO BOSS Men's Woven Long Elastic Pant\", 'Sleep & Lounge', Decimal('34.30'), 'Anthony Wong')\n",
      "(3, 'Harbor Bay Big & Tall 2-Pack Plaid Woven Boxers', 'Underwear', Decimal('23.00'), 'Anthony Wong')\n",
      "(17, \"Oakley Men's Flak Jacket XLJ Golf Sunglasses\", 'Accessories', Decimal('150.00'), 'Glenn Vasquez')\n",
      "(6, 'Premium White Above Ankle Toe Socks', 'Socks', Decimal('7.50'), 'Glenn Vasquez')\n",
      "(13, \"Duofold Men's Big-Tall Heavy Weight Plus Crew Thermal Top\", 'Active', Decimal('33.98'), 'Glenn Vasquez')\n",
      "(4, 'Ralph Lauren Mens SB 2B Solid Navy Blue Wool Suit', 'Suits & Sport Coats', Decimal('319.99'), 'Scott Weaver')\n"
     ]
    }
   ],
   "source": [
    "cursor.execute(\"\"\"SELECT Products.*, OrderDetailsCustomers.Name AS Customer_Name \n",
    "               FROM Products\n",
    "               RIGHT JOIN\n",
    "               (SELECT OrderDetails.ProductID, OrdersCustomers.Name FROM OrderDetails\n",
    "               RIGHT JOIN\n",
    "               (SELECT Orders.OrderID, Customers.Name FROM Orders \n",
    "               INNER JOIN Customers ON Orders.CustomerID=Customers.CustomerID) AS OrdersCustomers\n",
    "               ON OrderDetails.OrderID=OrdersCustomers.OrderID) AS OrderDetailsCustomers\n",
    "               ON Products.ProductID=OrderDetailsCustomers.ProductID;\"\"\")\n",
    "data = cursor.fetchall()\n",
    "for row in data:\n",
    "    print(row)"
   ]
  },
  {
   "cell_type": "markdown",
   "metadata": {},
   "source": [
    "2.2. Show orders that include more than one product."
   ]
  },
  {
   "cell_type": "markdown",
   "metadata": {},
   "source": [
    "2.3. Find the total sales amount for each customer."
   ]
  },
  {
   "cell_type": "markdown",
   "metadata": {},
   "source": [
    "#### Aggregation and Grouping"
   ]
  },
  {
   "cell_type": "markdown",
   "metadata": {},
   "source": [
    "3.1. Calculate the total revenue generated by each product category."
   ]
  },
  {
   "cell_type": "markdown",
   "metadata": {},
   "source": [
    "3.2. Determine the average order value."
   ]
  },
  {
   "cell_type": "markdown",
   "metadata": {},
   "source": [
    "3.3. Find the month with the highest number of orders."
   ]
  },
  {
   "cell_type": "markdown",
   "metadata": {},
   "source": [
    "#### Subqueries and Nested Queries"
   ]
  },
  {
   "cell_type": "markdown",
   "metadata": {},
   "source": [
    "4.1. Identify customers who have not placed any orders."
   ]
  },
  {
   "cell_type": "markdown",
   "metadata": {},
   "source": [
    "4.2. Find products that have never been ordered."
   ]
  },
  {
   "cell_type": "markdown",
   "metadata": {},
   "source": [
    "4.3. Show the top 3 best-selling products."
   ]
  },
  {
   "cell_type": "markdown",
   "metadata": {},
   "source": [
    "#### Date and Time Functions"
   ]
  },
  {
   "cell_type": "markdown",
   "metadata": {},
   "source": [
    "5.1. List orders placed in the last month."
   ]
  },
  {
   "cell_type": "markdown",
   "metadata": {},
   "source": [
    "5.2. Determine the oldest customer in terms of membership duration."
   ]
  },
  {
   "cell_type": "markdown",
   "metadata": {},
   "source": [
    "#### Advanced Queries"
   ]
  },
  {
   "cell_type": "markdown",
   "metadata": {},
   "source": [
    "6.1. Rank customers based on their total spending."
   ]
  },
  {
   "cell_type": "markdown",
   "metadata": {},
   "source": [
    "6.2. Identify the most popular product category."
   ]
  },
  {
   "cell_type": "markdown",
   "metadata": {},
   "source": [
    "6.3. Calculate the month-over-month growth rate in sales."
   ]
  },
  {
   "cell_type": "markdown",
   "metadata": {},
   "source": [
    "#### Data Manipulation and Updates"
   ]
  },
  {
   "cell_type": "markdown",
   "metadata": {},
   "source": [
    "7.1. Add a new customer to the Customers table."
   ]
  },
  {
   "cell_type": "markdown",
   "metadata": {},
   "source": [
    "7.2. Update the price of a specific product."
   ]
  },
  {
   "cell_type": "markdown",
   "metadata": {},
   "source": [
    "# copy to csv-file"
   ]
  },
  {
   "cell_type": "code",
   "execution_count": 12,
   "metadata": {},
   "outputs": [],
   "source": [
    "# rows = cursor.fetchall()\n",
    "fp = open('./test.csv', 'w') ##different path but you get the idea\n",
    "myFile = csv.writer(fp, lineterminator='\\n')\n",
    "myFile.writerows(data)\n",
    "fp.close()"
   ]
  },
  {
   "cell_type": "code",
   "execution_count": 15,
   "metadata": {},
   "outputs": [
    {
     "data": {
      "text/html": [
       "<div>\n",
       "<style scoped>\n",
       "    .dataframe tbody tr th:only-of-type {\n",
       "        vertical-align: middle;\n",
       "    }\n",
       "\n",
       "    .dataframe tbody tr th {\n",
       "        vertical-align: top;\n",
       "    }\n",
       "\n",
       "    .dataframe thead th {\n",
       "        text-align: right;\n",
       "    }\n",
       "</style>\n",
       "<table border=\"1\" class=\"dataframe\">\n",
       "  <thead>\n",
       "    <tr style=\"text-align: right;\">\n",
       "      <th></th>\n",
       "      <th>1</th>\n",
       "      <th>Rahul</th>\n",
       "    </tr>\n",
       "  </thead>\n",
       "  <tbody>\n",
       "  </tbody>\n",
       "</table>\n",
       "</div>"
      ],
      "text/plain": [
       "Empty DataFrame\n",
       "Columns: [1, Rahul]\n",
       "Index: []"
      ]
     },
     "execution_count": 15,
     "metadata": {},
     "output_type": "execute_result"
    }
   ],
   "source": [
    "df = pd.read_csv(\"./test.csv\")\n",
    "df.head()"
   ]
  },
  {
   "cell_type": "code",
   "execution_count": null,
   "metadata": {},
   "outputs": [],
   "source": []
  }
 ],
 "metadata": {
  "kernelspec": {
   "display_name": "Python 3",
   "language": "python",
   "name": "python3"
  },
  "language_info": {
   "codemirror_mode": {
    "name": "ipython",
    "version": 3
   },
   "file_extension": ".py",
   "mimetype": "text/x-python",
   "name": "python",
   "nbconvert_exporter": "python",
   "pygments_lexer": "ipython3",
   "version": "3.10.4"
  }
 },
 "nbformat": 4,
 "nbformat_minor": 2
}
