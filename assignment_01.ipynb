{
 "cells": [
  {
   "cell_type": "code",
   "execution_count": 4,
   "metadata": {},
   "outputs": [],
   "source": [
    "import warnings\n",
    "warnings.filterwarnings(\"ignore\")"
   ]
  },
  {
   "cell_type": "markdown",
   "metadata": {},
   "source": [
    "# Packages"
   ]
  },
  {
   "cell_type": "code",
   "execution_count": 3,
   "metadata": {},
   "outputs": [],
   "source": [
    "import mysql.connector as sqLtor\n",
    "\n",
    "import csv\n",
    "import pandas as pd"
   ]
  },
  {
   "cell_type": "markdown",
   "metadata": {},
   "source": [
    "# Dot Environmen"
   ]
  },
  {
   "cell_type": "code",
   "execution_count": 2,
   "metadata": {},
   "outputs": [],
   "source": [
    "# Actual API key is stored in a .env file.  Not good to store API key directly in script.\n",
    "import os\n",
    "from dotenv import load_dotenv\n",
    "\n",
    "load_dotenv()\n",
    "user = os.environ.get(\"user\")\n",
    "password = os.environ.get(\"password\")"
   ]
  },
  {
   "cell_type": "markdown",
   "metadata": {},
   "source": [
    "# SQL Connection"
   ]
  },
  {
   "cell_type": "markdown",
   "metadata": {},
   "source": [
    "## Creating Database `org`"
   ]
  },
  {
   "cell_type": "code",
   "execution_count": 5,
   "metadata": {},
   "outputs": [],
   "source": [
    "mycon0 = sqLtor.connect(host=\"localhost\", user=user, passwd=password)\n",
    "mycursor0 = mycon0.cursor()"
   ]
  },
  {
   "cell_type": "code",
   "execution_count": 6,
   "metadata": {},
   "outputs": [
    {
     "name": "stdout",
     "output_type": "stream",
     "text": [
      "('ecom',)\n",
      "('information_schema',)\n",
      "('mysql',)\n",
      "('performance_schema',)\n",
      "('python_db',)\n",
      "('sys',)\n"
     ]
    }
   ],
   "source": [
    "mycursor0.execute(\"SHOW DATABASES\")\n",
    "\n",
    "for x in mycursor0:\n",
    "  print(x)"
   ]
  },
  {
   "cell_type": "code",
   "execution_count": 7,
   "metadata": {},
   "outputs": [],
   "source": [
    "mycursor0.execute(\"CREATE DATABASE org;\")"
   ]
  },
  {
   "cell_type": "code",
   "execution_count": 8,
   "metadata": {},
   "outputs": [
    {
     "data": {
      "text/plain": [
       "True"
      ]
     },
     "execution_count": 8,
     "metadata": {},
     "output_type": "execute_result"
    }
   ],
   "source": [
    "mycursor0.close()"
   ]
  },
  {
   "cell_type": "markdown",
   "metadata": {},
   "source": [
    "## Connect to Database `org`"
   ]
  },
  {
   "cell_type": "code",
   "execution_count": 5,
   "metadata": {},
   "outputs": [],
   "source": [
    "mycon = sqLtor.connect(host=\"localhost\", user=user, passwd=password, database=\"org\")"
   ]
  },
  {
   "cell_type": "code",
   "execution_count": 6,
   "metadata": {},
   "outputs": [],
   "source": [
    "cursor = mycon.cursor()"
   ]
  },
  {
   "cell_type": "markdown",
   "metadata": {},
   "source": [
    "### Create tables"
   ]
  },
  {
   "cell_type": "code",
   "execution_count": 20,
   "metadata": {},
   "outputs": [],
   "source": [
    "cursor.execute(\"\"\"\n",
    "CREATE TABLE Customers ( \n",
    "    CustomerID INT PRIMARY KEY, \n",
    "    Name VARCHAR(255),\n",
    "    Email VARCHAR(255),\n",
    "    JoinDate DATE );\n",
    "\"\"\")"
   ]
  },
  {
   "cell_type": "code",
   "execution_count": 21,
   "metadata": {},
   "outputs": [],
   "source": [
    "cursor.execute(\"\"\"\n",
    "CREATE TABLE Products ( \n",
    "    ProductID INT PRIMARY KEY, \n",
    "    Name VARCHAR(255), \n",
    "    Category VARCHAR(255), \n",
    "    Price DECIMAL(10, 2)\n",
    ");\n",
    "\"\"\")"
   ]
  },
  {
   "cell_type": "code",
   "execution_count": 22,
   "metadata": {},
   "outputs": [],
   "source": [
    "cursor.execute(\"\"\"\n",
    "CREATE TABLE Orders (\n",
    "    OrderID INT PRIMARY KEY,\n",
    "    CustomerID INT,\n",
    "    OrderDate DATE,\n",
    "    TotalAmount DECIMAL(10, 2),\n",
    "    FOREIGN KEY (CustomerID) REFERENCES Customers(CustomerID)\n",
    ");\n",
    "\"\"\")"
   ]
  },
  {
   "cell_type": "code",
   "execution_count": 23,
   "metadata": {},
   "outputs": [],
   "source": [
    "cursor.execute(\"\"\"\n",
    "CREATE TABLE OrderDetails ( \n",
    "    OrderDetailID INT PRIMARY KEY, \n",
    "    OrderID INT,\n",
    "    ProductID INT,\n",
    "    Quantity INT,\n",
    "    PricePerUnit DECIMAL(10, 2),\n",
    "    FOREIGN KEY (OrderID) REFERENCES Orders(OrderID), \n",
    "    FOREIGN KEY (ProductID) REFERENCES Products(ProductID)\n",
    ");\n",
    "\"\"\")"
   ]
  },
  {
   "cell_type": "code",
   "execution_count": 24,
   "metadata": {},
   "outputs": [
    {
     "name": "stdout",
     "output_type": "stream",
     "text": [
      "('Customers',)\n",
      "('OrderDetails',)\n",
      "('Orders',)\n",
      "('Products',)\n"
     ]
    }
   ],
   "source": [
    "cursor.execute(\"SHOW TABLES;\")\n",
    "data = cursor.fetchall()\n",
    "for row in data:\n",
    "    print(row)"
   ]
  },
  {
   "cell_type": "code",
   "execution_count": 18,
   "metadata": {},
   "outputs": [],
   "source": [
    "# cursor.execute(\"DROP TABLE Customers;\")"
   ]
  },
  {
   "cell_type": "markdown",
   "metadata": {},
   "source": [
    "### Insert data into tables"
   ]
  },
  {
   "cell_type": "markdown",
   "metadata": {},
   "source": [
    "#### Customers"
   ]
  },
  {
   "cell_type": "code",
   "execution_count": 25,
   "metadata": {},
   "outputs": [],
   "source": [
    "customers = [\n",
    "    \"(1, 'Michelle Gonzalez', 'michellegonzalez@example.net', '2021-01-28')\",\n",
    "    \"(2, 'Lauren Butler', 'laurenbutler@example.org', '2021-07-07')\",\n",
    "    \"(3, 'Daniel Hunt', 'danielhunt@example.com', '2021-11-09')\",\n",
    "    \"(4, 'James Clark', 'jamesclark@example.org', '2019-05-11')\",\n",
    "    \"(5, 'Stephanie Monroe', 'stephaniemonroe@example.net', '2021-05-24')\",\n",
    "    \"(6, 'Cynthia Shelton', 'cynthiashelton@example.org', '2022-06-09')\",\n",
    "    \"(7, 'Anthony Wong', 'anthonywong@example.org', '2019-08-31')\",\n",
    "    \"(8, 'Fred Hopkins', 'fredhopkins@example.org', '2021-10-06')\",\n",
    "    \"(9, 'Glenn Vasquez', 'glennvasquez@example.com', '2021-02-12')\",\n",
    "    \"(10, 'Scott Weaver', 'scottweaver@example.net', '2019-11-23')\",\n",
    "]"
   ]
  },
  {
   "cell_type": "code",
   "execution_count": 26,
   "metadata": {},
   "outputs": [],
   "source": [
    "for customer in customers:\n",
    "    cursor.execute(f\"\"\"\n",
    "    INSERT INTO Customers(CustomerID, Name, Email, JoinDate)\n",
    "                   VALUES{customer}\n",
    "    \"\"\")"
   ]
  },
  {
   "cell_type": "markdown",
   "metadata": {},
   "source": [
    "#### Products"
   ]
  },
  {
   "cell_type": "code",
   "execution_count": 27,
   "metadata": {},
   "outputs": [],
   "source": [
    "products = [\n",
    "    '(1, \"C-IN2 Men\\'s Pop Color Street Jock\", \"Active\", 17.0)',\n",
    "    '(2, \"Carole Hochman Women\\'s Long Zip Robe\",  \"Sleep & Lounge\", 79)',\n",
    "    \"(3, 'Harbor Bay Big & Tall 2-Pack Plaid Woven Boxers', 'Underwear', 23.0)\",\n",
    "    \"(4, 'Ralph Lauren Mens SB 2B Solid Navy Blue Wool Suit', 'Suits & Sport Coats', 319.99)\",\n",
    "    \"(5, 'Aimee Gowns Original Bra-less Nursing Gown', 'Sleep & Lounge', 39.96)\", \n",
    "    \"(6, 'Premium White Above Ankle Toe Socks', 'Socks', 7.5)\",\n",
    "    '(7, \"Mod-O-Doc Women\\'s Big Cord Peacoat\", \"Outerwear & Coats\", 170.0)',\n",
    "    '(8, \"True Religion Men\\'s Geno Baja Slim Jean\", \"Jeans\", 264.0)',\n",
    "    '(9, \"Larry Levine Women\\'s Maxi Length Hooded Down Jacket\", \"Outerwear & Coats\", 118.75)',\n",
    "    '(10, \"HUGO BOSS Men\\'s Woven Long Elastic Pant\", \"Sleep & Lounge\", 34.30)',\n",
    "    '(11, \"Michael Kors Men\\'s Waffle Stitch Full Zip With Mock Neck\", \"Sweaters\", 185.86)',\n",
    "    '(12, \"HUGO BOSS Men\\'s Contrasting Stripe Crew Sock\", \"Socks\", 13.0)',\n",
    "    '(13, \"Duofold Men\\'s Big-Tall Heavy Weight Plus Crew Thermal Top\", \"Active\", 33.98)',\n",
    "    \"(14, 'Allegra K Ladies Elastic Waist Sleeveless Side Pocket Tunic Jumpsuit Light Green XS', 'Jumpsuits & Rompers', 10.21)\",\n",
    "    \"(15, 'KEEN Concord Stripe Crew Lite Sock', 'Socks & Hosiery', 17.0)\",\n",
    "    '(16, \"Bobi Women\\'s Modal Jersey Cowl Neck Dress\", \"Dresses\", 60.0)',\n",
    "    '(17, \"Oakley Men\\'s Flak Jacket XLJ Golf Sunglasses\", \"Accessories\", 150.0)'\n",
    "]"
   ]
  },
  {
   "cell_type": "code",
   "execution_count": 28,
   "metadata": {},
   "outputs": [],
   "source": [
    "for product in products:\n",
    "    cursor.execute(f\"\"\"\n",
    "    INSERT INTO Products(ProductID, Name, Category, Price)\n",
    "                   VALUES{product};\n",
    "    \"\"\")"
   ]
  },
  {
   "cell_type": "markdown",
   "metadata": {},
   "source": [
    "#### Orders"
   ]
  },
  {
   "cell_type": "code",
   "execution_count": 29,
   "metadata": {},
   "outputs": [],
   "source": [
    "orders = [\n",
    "    \"(1, 5, '2021-07-23', 110.16)\",\n",
    "    \"(2, 9, '2024-02-18', 191.48)\",\n",
    "    \"(3, 7, '2020-07-30', 264)\",\n",
    "    \"(4, 2, '2023-03-27', 17)\",\n",
    "    \"(5, 4, '2022-11-12', 17)\",\n",
    "    \"(6, 10, '2024-04-04', 319.98)\",\n",
    "    \"(7, 3, '2022-07-19', 198.85)\",\n",
    "    \"(8, 6, '2023-11-04', 170.0)\",\n",
    "    \"(9, 7, '2023-12-17', 57.29)\",\n",
    "    \"(10, 1, '2022-03-06', 197.75)\"\n",
    "]"
   ]
  },
  {
   "cell_type": "code",
   "execution_count": 30,
   "metadata": {},
   "outputs": [],
   "source": [
    "for order in orders:\n",
    "    cursor.execute(f\"\"\"\n",
    "    INSERT INTO Orders(OrderID, CustomerID, OrderDate, TotalAmount)\n",
    "                   VALUES{order};\n",
    "    \"\"\")"
   ]
  },
  {
   "cell_type": "markdown",
   "metadata": {},
   "source": [
    "#### OrderDetails"
   ]
  },
  {
   "cell_type": "code",
   "execution_count": 36,
   "metadata": {},
   "outputs": [],
   "source": [
    "orderDetails = [\n",
    "    \"(1, 1, 5, 1, 39.95)\",\n",
    "    \"(2, 4, 15, 1, 17.0)\",\n",
    "    \"(3, 2, 17, 1, 150.0)\",\n",
    "    \"(4, 10, 2, 1, 79.0)\",\n",
    "    \"(5, 10, 9, 1, 118.75)\",\n",
    "    \"(6, 1, 16, 1, 60.0)\",\n",
    "    \"(7, 9, 10, 1, 34.3)\",\n",
    "    \"(8, 6, 4, 1, 319.98)\",\n",
    "    \"(9, 9, 3, 1, 23.0)\",\n",
    "    \"(10, 2, 6, 1, 7.5)\",\n",
    "    \"(11, 5, 1, 1, 17.0)\",\n",
    "    \"(12, 1, 14, 1, 10.21)\",\n",
    "    \"(13, 3, 8, 1, 264.0)\",\n",
    "    \"(14, 7, 11, 1, 185.85)\",\n",
    "    \"(15, 7, 12, 1, 13.0)\",\n",
    "    \"(16, 2, 13, 1, 33.98)\",\n",
    "    \"(17, 8, 7, 1, 170.0)\",\n",
    "]"
   ]
  },
  {
   "cell_type": "code",
   "execution_count": 37,
   "metadata": {},
   "outputs": [],
   "source": [
    "for orderDetail in orderDetails:\n",
    "    cursor.execute(f\"\"\"\n",
    "    INSERT INTO OrderDetails(OrderDetailID, OrderID, ProductID, Quantity, PricePerUnit)\n",
    "                   VALUES{orderDetail};\n",
    "    \"\"\")"
   ]
  },
  {
   "cell_type": "code",
   "execution_count": 44,
   "metadata": {},
   "outputs": [],
   "source": [
    "cursor.execute(\"FLUSH TABLES;\")"
   ]
  },
  {
   "cell_type": "code",
   "execution_count": 35,
   "metadata": {},
   "outputs": [],
   "source": [
    "cursor.execute(\"SELECT * FROM OrderDetails\")\n",
    "data = cursor.fetchall()\n",
    "for row in data:\n",
    "    print(row)"
   ]
  },
  {
   "cell_type": "markdown",
   "metadata": {},
   "source": [
    "### Queries"
   ]
  },
  {
   "cell_type": "markdown",
   "metadata": {},
   "source": [
    "#### Basics"
   ]
  },
  {
   "cell_type": "markdown",
   "metadata": {},
   "source": [
    "1.1. List all customers. "
   ]
  },
  {
   "cell_type": "code",
   "execution_count": 20,
   "metadata": {},
   "outputs": [
    {
     "data": {
      "text/html": [
       "<div>\n",
       "<style scoped>\n",
       "    .dataframe tbody tr th:only-of-type {\n",
       "        vertical-align: middle;\n",
       "    }\n",
       "\n",
       "    .dataframe tbody tr th {\n",
       "        vertical-align: top;\n",
       "    }\n",
       "\n",
       "    .dataframe thead th {\n",
       "        text-align: right;\n",
       "    }\n",
       "</style>\n",
       "<table border=\"1\" class=\"dataframe\">\n",
       "  <thead>\n",
       "    <tr style=\"text-align: right;\">\n",
       "      <th></th>\n",
       "      <th>Name</th>\n",
       "      <th>Email</th>\n",
       "      <th>JoinDate</th>\n",
       "    </tr>\n",
       "    <tr>\n",
       "      <th>CustomerID</th>\n",
       "      <th></th>\n",
       "      <th></th>\n",
       "      <th></th>\n",
       "    </tr>\n",
       "  </thead>\n",
       "  <tbody>\n",
       "    <tr>\n",
       "      <th>1</th>\n",
       "      <td>Michelle Gonzalez</td>\n",
       "      <td>michellegonzalez@example.net</td>\n",
       "      <td>2021-01-28</td>\n",
       "    </tr>\n",
       "    <tr>\n",
       "      <th>2</th>\n",
       "      <td>Lauren Butler</td>\n",
       "      <td>laurenbutler@example.org</td>\n",
       "      <td>2021-07-07</td>\n",
       "    </tr>\n",
       "    <tr>\n",
       "      <th>3</th>\n",
       "      <td>Daniel Hunt</td>\n",
       "      <td>danielhunt@example.com</td>\n",
       "      <td>2021-11-09</td>\n",
       "    </tr>\n",
       "    <tr>\n",
       "      <th>4</th>\n",
       "      <td>James Clark</td>\n",
       "      <td>jamesclark@example.org</td>\n",
       "      <td>2019-05-11</td>\n",
       "    </tr>\n",
       "    <tr>\n",
       "      <th>5</th>\n",
       "      <td>Stephanie Monroe</td>\n",
       "      <td>stephaniemonroe@example.net</td>\n",
       "      <td>2021-05-24</td>\n",
       "    </tr>\n",
       "    <tr>\n",
       "      <th>6</th>\n",
       "      <td>Cynthia Shelton</td>\n",
       "      <td>cynthiashelton@example.org</td>\n",
       "      <td>2022-06-09</td>\n",
       "    </tr>\n",
       "    <tr>\n",
       "      <th>7</th>\n",
       "      <td>Anthony Wong</td>\n",
       "      <td>anthonywong@example.org</td>\n",
       "      <td>2019-08-31</td>\n",
       "    </tr>\n",
       "    <tr>\n",
       "      <th>8</th>\n",
       "      <td>Fred Hopkins</td>\n",
       "      <td>fredhopkins@example.org</td>\n",
       "      <td>2021-10-06</td>\n",
       "    </tr>\n",
       "    <tr>\n",
       "      <th>9</th>\n",
       "      <td>Glenn Vasquez</td>\n",
       "      <td>glennvasquez@example.com</td>\n",
       "      <td>2021-02-12</td>\n",
       "    </tr>\n",
       "    <tr>\n",
       "      <th>10</th>\n",
       "      <td>Scott Weaver</td>\n",
       "      <td>scottweaver@example.net</td>\n",
       "      <td>2019-11-23</td>\n",
       "    </tr>\n",
       "  </tbody>\n",
       "</table>\n",
       "</div>"
      ],
      "text/plain": [
       "                         Name                         Email    JoinDate\n",
       "CustomerID                                                             \n",
       "1           Michelle Gonzalez  michellegonzalez@example.net  2021-01-28\n",
       "2               Lauren Butler      laurenbutler@example.org  2021-07-07\n",
       "3                 Daniel Hunt        danielhunt@example.com  2021-11-09\n",
       "4                 James Clark        jamesclark@example.org  2019-05-11\n",
       "5            Stephanie Monroe   stephaniemonroe@example.net  2021-05-24\n",
       "6             Cynthia Shelton    cynthiashelton@example.org  2022-06-09\n",
       "7                Anthony Wong       anthonywong@example.org  2019-08-31\n",
       "8                Fred Hopkins       fredhopkins@example.org  2021-10-06\n",
       "9               Glenn Vasquez      glennvasquez@example.com  2021-02-12\n",
       "10               Scott Weaver       scottweaver@example.net  2019-11-23"
      ]
     },
     "execution_count": 20,
     "metadata": {},
     "output_type": "execute_result"
    }
   ],
   "source": [
    "cursor.execute(\"SELECT * FROM Customers;\")\n",
    "data = cursor.fetchall()\n",
    "df = pd.DataFrame(data=data, columns=[\"CustomerID\", \"Name\", \"Email\", \"JoinDate\"])\n",
    "df.set_index(\"CustomerID\")"
   ]
  },
  {
   "cell_type": "markdown",
   "metadata": {},
   "source": [
    "1.2. Show all products in the 'Active' category"
   ]
  },
  {
   "cell_type": "code",
   "execution_count": 21,
   "metadata": {},
   "outputs": [
    {
     "data": {
      "text/html": [
       "<div>\n",
       "<style scoped>\n",
       "    .dataframe tbody tr th:only-of-type {\n",
       "        vertical-align: middle;\n",
       "    }\n",
       "\n",
       "    .dataframe tbody tr th {\n",
       "        vertical-align: top;\n",
       "    }\n",
       "\n",
       "    .dataframe thead th {\n",
       "        text-align: right;\n",
       "    }\n",
       "</style>\n",
       "<table border=\"1\" class=\"dataframe\">\n",
       "  <thead>\n",
       "    <tr style=\"text-align: right;\">\n",
       "      <th></th>\n",
       "      <th>Name</th>\n",
       "      <th>Category</th>\n",
       "      <th>Price</th>\n",
       "    </tr>\n",
       "    <tr>\n",
       "      <th>ProductID</th>\n",
       "      <th></th>\n",
       "      <th></th>\n",
       "      <th></th>\n",
       "    </tr>\n",
       "  </thead>\n",
       "  <tbody>\n",
       "    <tr>\n",
       "      <th>1</th>\n",
       "      <td>C-IN2 Men's Pop Color Street Jock</td>\n",
       "      <td>Active</td>\n",
       "      <td>17.00</td>\n",
       "    </tr>\n",
       "    <tr>\n",
       "      <th>13</th>\n",
       "      <td>Duofold Men's Big-Tall Heavy Weight Plus Crew ...</td>\n",
       "      <td>Active</td>\n",
       "      <td>33.98</td>\n",
       "    </tr>\n",
       "  </tbody>\n",
       "</table>\n",
       "</div>"
      ],
      "text/plain": [
       "                                                        Name Category  Price\n",
       "ProductID                                                                   \n",
       "1                          C-IN2 Men's Pop Color Street Jock   Active  17.00\n",
       "13         Duofold Men's Big-Tall Heavy Weight Plus Crew ...   Active  33.98"
      ]
     },
     "execution_count": 21,
     "metadata": {},
     "output_type": "execute_result"
    }
   ],
   "source": [
    "cursor.execute(\"SELECT * FROM Products WHERE category='Active';\")\n",
    "data = cursor.fetchall()\n",
    "df = pd.DataFrame(data=data, columns=[\"ProductID\", \"Name\", \"Category\", \"Price\"])\n",
    "df.set_index(\"ProductID\")"
   ]
  },
  {
   "cell_type": "markdown",
   "metadata": {},
   "source": [
    "1.3. Find the total number of orders placed."
   ]
  },
  {
   "cell_type": "code",
   "execution_count": 22,
   "metadata": {},
   "outputs": [
    {
     "name": "stdout",
     "output_type": "stream",
     "text": [
      "(10,)\n"
     ]
    }
   ],
   "source": [
    "cursor.execute(\"SELECT COUNT(*) FROM Orders;\")\n",
    "data = cursor.fetchall()\n",
    "for row in data:\n",
    "    print(row)"
   ]
  },
  {
   "cell_type": "markdown",
   "metadata": {},
   "source": [
    "1.4. Display the details of the most recent order."
   ]
  },
  {
   "cell_type": "code",
   "execution_count": 25,
   "metadata": {},
   "outputs": [
    {
     "data": {
      "text/html": [
       "<div>\n",
       "<style scoped>\n",
       "    .dataframe tbody tr th:only-of-type {\n",
       "        vertical-align: middle;\n",
       "    }\n",
       "\n",
       "    .dataframe tbody tr th {\n",
       "        vertical-align: top;\n",
       "    }\n",
       "\n",
       "    .dataframe thead th {\n",
       "        text-align: right;\n",
       "    }\n",
       "</style>\n",
       "<table border=\"1\" class=\"dataframe\">\n",
       "  <thead>\n",
       "    <tr style=\"text-align: right;\">\n",
       "      <th></th>\n",
       "      <th>OrderDetailID</th>\n",
       "      <th>ProductID</th>\n",
       "      <th>Quantity</th>\n",
       "      <th>PricePerUnit</th>\n",
       "    </tr>\n",
       "    <tr>\n",
       "      <th>OrderID</th>\n",
       "      <th></th>\n",
       "      <th></th>\n",
       "      <th></th>\n",
       "      <th></th>\n",
       "    </tr>\n",
       "  </thead>\n",
       "  <tbody>\n",
       "    <tr>\n",
       "      <th>6</th>\n",
       "      <td>8</td>\n",
       "      <td>4</td>\n",
       "      <td>1</td>\n",
       "      <td>319.98</td>\n",
       "    </tr>\n",
       "  </tbody>\n",
       "</table>\n",
       "</div>"
      ],
      "text/plain": [
       "         OrderDetailID  ProductID  Quantity PricePerUnit\n",
       "OrderID                                                 \n",
       "6                    8          4         1       319.98"
      ]
     },
     "execution_count": 25,
     "metadata": {},
     "output_type": "execute_result"
    }
   ],
   "source": [
    "cursor.execute(\"\"\"\n",
    "SELECT * FROM OrderDetails \n",
    "    WHERE OrderID=(SELECT OrderID FROM \n",
    "               (SELECT * FROM Orders WHERE OrderDate=(SELECT MAX(OrderDate) FROM Orders)) ord1);\n",
    "\"\"\")\n",
    "data = cursor.fetchall()\n",
    "df = pd.DataFrame(data=data, columns=[\"OrderDetailID\", \"OrderID\", \"ProductID\", \"Quantity\", \"PricePerUnit\"])\n",
    "df.set_index(\"OrderID\")"
   ]
  },
  {
   "cell_type": "markdown",
   "metadata": {},
   "source": [
    "#### Joins and Relationships"
   ]
  },
  {
   "cell_type": "markdown",
   "metadata": {},
   "source": [
    "2.1. List all products along with the names of the customers who ordered them."
   ]
  },
  {
   "cell_type": "code",
   "execution_count": 26,
   "metadata": {},
   "outputs": [
    {
     "data": {
      "text/html": [
       "<div>\n",
       "<style scoped>\n",
       "    .dataframe tbody tr th:only-of-type {\n",
       "        vertical-align: middle;\n",
       "    }\n",
       "\n",
       "    .dataframe tbody tr th {\n",
       "        vertical-align: top;\n",
       "    }\n",
       "\n",
       "    .dataframe thead th {\n",
       "        text-align: right;\n",
       "    }\n",
       "</style>\n",
       "<table border=\"1\" class=\"dataframe\">\n",
       "  <thead>\n",
       "    <tr style=\"text-align: right;\">\n",
       "      <th></th>\n",
       "      <th>Name</th>\n",
       "      <th>Category</th>\n",
       "      <th>Price</th>\n",
       "      <th>Customer_Name</th>\n",
       "    </tr>\n",
       "    <tr>\n",
       "      <th>ProductID</th>\n",
       "      <th></th>\n",
       "      <th></th>\n",
       "      <th></th>\n",
       "      <th></th>\n",
       "    </tr>\n",
       "  </thead>\n",
       "  <tbody>\n",
       "    <tr>\n",
       "      <th>8</th>\n",
       "      <td>True Religion Men's Geno Baja Slim Jean</td>\n",
       "      <td>Jeans</td>\n",
       "      <td>264.00</td>\n",
       "      <td>Anthony Wong</td>\n",
       "    </tr>\n",
       "    <tr>\n",
       "      <th>10</th>\n",
       "      <td>HUGO BOSS Men's Woven Long Elastic Pant</td>\n",
       "      <td>Sleep &amp; Lounge</td>\n",
       "      <td>34.30</td>\n",
       "      <td>Anthony Wong</td>\n",
       "    </tr>\n",
       "    <tr>\n",
       "      <th>3</th>\n",
       "      <td>Harbor Bay Big &amp; Tall 2-Pack Plaid Woven Boxers</td>\n",
       "      <td>Underwear</td>\n",
       "      <td>23.00</td>\n",
       "      <td>Anthony Wong</td>\n",
       "    </tr>\n",
       "    <tr>\n",
       "      <th>7</th>\n",
       "      <td>Mod-O-Doc Women's Big Cord Peacoat</td>\n",
       "      <td>Outerwear &amp; Coats</td>\n",
       "      <td>170.00</td>\n",
       "      <td>Cynthia Shelton</td>\n",
       "    </tr>\n",
       "    <tr>\n",
       "      <th>11</th>\n",
       "      <td>Michael Kors Men's Waffle Stitch Full Zip With...</td>\n",
       "      <td>Sweaters</td>\n",
       "      <td>185.86</td>\n",
       "      <td>Daniel Hunt</td>\n",
       "    </tr>\n",
       "    <tr>\n",
       "      <th>12</th>\n",
       "      <td>HUGO BOSS Men's Contrasting Stripe Crew Sock</td>\n",
       "      <td>Socks</td>\n",
       "      <td>13.00</td>\n",
       "      <td>Daniel Hunt</td>\n",
       "    </tr>\n",
       "    <tr>\n",
       "      <th>17</th>\n",
       "      <td>Oakley Men's Flak Jacket XLJ Golf Sunglasses</td>\n",
       "      <td>Accessories</td>\n",
       "      <td>150.00</td>\n",
       "      <td>Glenn Vasquez</td>\n",
       "    </tr>\n",
       "    <tr>\n",
       "      <th>6</th>\n",
       "      <td>Premium White Above Ankle Toe Socks</td>\n",
       "      <td>Socks</td>\n",
       "      <td>7.50</td>\n",
       "      <td>Glenn Vasquez</td>\n",
       "    </tr>\n",
       "    <tr>\n",
       "      <th>13</th>\n",
       "      <td>Duofold Men's Big-Tall Heavy Weight Plus Crew ...</td>\n",
       "      <td>Active</td>\n",
       "      <td>33.98</td>\n",
       "      <td>Glenn Vasquez</td>\n",
       "    </tr>\n",
       "    <tr>\n",
       "      <th>1</th>\n",
       "      <td>C-IN2 Men's Pop Color Street Jock</td>\n",
       "      <td>Active</td>\n",
       "      <td>17.00</td>\n",
       "      <td>James Clark</td>\n",
       "    </tr>\n",
       "    <tr>\n",
       "      <th>15</th>\n",
       "      <td>KEEN Concord Stripe Crew Lite Sock</td>\n",
       "      <td>Socks &amp; Hosiery</td>\n",
       "      <td>17.00</td>\n",
       "      <td>Lauren Butler</td>\n",
       "    </tr>\n",
       "    <tr>\n",
       "      <th>2</th>\n",
       "      <td>Carole Hochman Women's Long Zip Robe</td>\n",
       "      <td>Sleep &amp; Lounge</td>\n",
       "      <td>79.00</td>\n",
       "      <td>Michelle Gonzalez</td>\n",
       "    </tr>\n",
       "    <tr>\n",
       "      <th>9</th>\n",
       "      <td>Larry Levine Women's Maxi Length Hooded Down J...</td>\n",
       "      <td>Outerwear &amp; Coats</td>\n",
       "      <td>118.75</td>\n",
       "      <td>Michelle Gonzalez</td>\n",
       "    </tr>\n",
       "    <tr>\n",
       "      <th>4</th>\n",
       "      <td>Ralph Lauren Mens SB 2B Solid Navy Blue Wool Suit</td>\n",
       "      <td>Suits &amp; Sport Coats</td>\n",
       "      <td>319.99</td>\n",
       "      <td>Scott Weaver</td>\n",
       "    </tr>\n",
       "    <tr>\n",
       "      <th>5</th>\n",
       "      <td>Aimee Gowns Original Bra-less Nursing Gown</td>\n",
       "      <td>Sleep &amp; Lounge</td>\n",
       "      <td>39.96</td>\n",
       "      <td>Stephanie Monroe</td>\n",
       "    </tr>\n",
       "    <tr>\n",
       "      <th>16</th>\n",
       "      <td>Bobi Women's Modal Jersey Cowl Neck Dress</td>\n",
       "      <td>Dresses</td>\n",
       "      <td>60.00</td>\n",
       "      <td>Stephanie Monroe</td>\n",
       "    </tr>\n",
       "    <tr>\n",
       "      <th>14</th>\n",
       "      <td>Allegra K Ladies Elastic Waist Sleeveless Side...</td>\n",
       "      <td>Jumpsuits &amp; Rompers</td>\n",
       "      <td>10.21</td>\n",
       "      <td>Stephanie Monroe</td>\n",
       "    </tr>\n",
       "  </tbody>\n",
       "</table>\n",
       "</div>"
      ],
      "text/plain": [
       "                                                        Name  \\\n",
       "ProductID                                                      \n",
       "8                    True Religion Men's Geno Baja Slim Jean   \n",
       "10                   HUGO BOSS Men's Woven Long Elastic Pant   \n",
       "3            Harbor Bay Big & Tall 2-Pack Plaid Woven Boxers   \n",
       "7                         Mod-O-Doc Women's Big Cord Peacoat   \n",
       "11         Michael Kors Men's Waffle Stitch Full Zip With...   \n",
       "12              HUGO BOSS Men's Contrasting Stripe Crew Sock   \n",
       "17              Oakley Men's Flak Jacket XLJ Golf Sunglasses   \n",
       "6                        Premium White Above Ankle Toe Socks   \n",
       "13         Duofold Men's Big-Tall Heavy Weight Plus Crew ...   \n",
       "1                          C-IN2 Men's Pop Color Street Jock   \n",
       "15                        KEEN Concord Stripe Crew Lite Sock   \n",
       "2                       Carole Hochman Women's Long Zip Robe   \n",
       "9          Larry Levine Women's Maxi Length Hooded Down J...   \n",
       "4          Ralph Lauren Mens SB 2B Solid Navy Blue Wool Suit   \n",
       "5                 Aimee Gowns Original Bra-less Nursing Gown   \n",
       "16                 Bobi Women's Modal Jersey Cowl Neck Dress   \n",
       "14         Allegra K Ladies Elastic Waist Sleeveless Side...   \n",
       "\n",
       "                      Category   Price      Customer_Name  \n",
       "ProductID                                                  \n",
       "8                        Jeans  264.00       Anthony Wong  \n",
       "10              Sleep & Lounge   34.30       Anthony Wong  \n",
       "3                    Underwear   23.00       Anthony Wong  \n",
       "7            Outerwear & Coats  170.00    Cynthia Shelton  \n",
       "11                    Sweaters  185.86        Daniel Hunt  \n",
       "12                       Socks   13.00        Daniel Hunt  \n",
       "17                 Accessories  150.00      Glenn Vasquez  \n",
       "6                        Socks    7.50      Glenn Vasquez  \n",
       "13                      Active   33.98      Glenn Vasquez  \n",
       "1                       Active   17.00        James Clark  \n",
       "15             Socks & Hosiery   17.00      Lauren Butler  \n",
       "2               Sleep & Lounge   79.00  Michelle Gonzalez  \n",
       "9            Outerwear & Coats  118.75  Michelle Gonzalez  \n",
       "4          Suits & Sport Coats  319.99       Scott Weaver  \n",
       "5               Sleep & Lounge   39.96   Stephanie Monroe  \n",
       "16                     Dresses   60.00   Stephanie Monroe  \n",
       "14         Jumpsuits & Rompers   10.21   Stephanie Monroe  "
      ]
     },
     "execution_count": 26,
     "metadata": {},
     "output_type": "execute_result"
    }
   ],
   "source": [
    "cursor.execute(\"\"\"SELECT Products.*, OrderDetailsCustomers.Name AS Customer_Name \n",
    "               FROM Products\n",
    "               RIGHT JOIN\n",
    "               (SELECT OrderDetails.ProductID, OrdersCustomers.Name FROM OrderDetails\n",
    "               RIGHT JOIN\n",
    "               (SELECT Orders.OrderID, Customers.Name FROM Orders \n",
    "               INNER JOIN Customers ON Orders.CustomerID=Customers.CustomerID) AS OrdersCustomers\n",
    "               ON OrderDetails.OrderID=OrdersCustomers.OrderID) AS OrderDetailsCustomers\n",
    "               ON Products.ProductID=OrderDetailsCustomers.ProductID\n",
    "               ORDER BY Customer_Name;\"\"\")\n",
    "data = cursor.fetchall()\n",
    "df = pd.DataFrame(data=data, columns=[\"ProductID\", \"Name\", \"Category\", \"Price\", \"Customer_Name\"])\n",
    "df.set_index(\"ProductID\")"
   ]
  },
  {
   "cell_type": "markdown",
   "metadata": {},
   "source": [
    "2.2. Show orders that include more than one product."
   ]
  },
  {
   "cell_type": "code",
   "execution_count": 34,
   "metadata": {},
   "outputs": [
    {
     "data": {
      "text/html": [
       "<div>\n",
       "<style scoped>\n",
       "    .dataframe tbody tr th:only-of-type {\n",
       "        vertical-align: middle;\n",
       "    }\n",
       "\n",
       "    .dataframe tbody tr th {\n",
       "        vertical-align: top;\n",
       "    }\n",
       "\n",
       "    .dataframe thead th {\n",
       "        text-align: right;\n",
       "    }\n",
       "</style>\n",
       "<table border=\"1\" class=\"dataframe\">\n",
       "  <thead>\n",
       "    <tr style=\"text-align: right;\">\n",
       "      <th></th>\n",
       "      <th>CustomerID</th>\n",
       "      <th>OrderDate</th>\n",
       "      <th>TotalAmount</th>\n",
       "      <th>Number of Products</th>\n",
       "    </tr>\n",
       "    <tr>\n",
       "      <th>OrderID</th>\n",
       "      <th></th>\n",
       "      <th></th>\n",
       "      <th></th>\n",
       "      <th></th>\n",
       "    </tr>\n",
       "  </thead>\n",
       "  <tbody>\n",
       "    <tr>\n",
       "      <th>1</th>\n",
       "      <td>5</td>\n",
       "      <td>2021-07-23</td>\n",
       "      <td>110.16</td>\n",
       "      <td>3</td>\n",
       "    </tr>\n",
       "    <tr>\n",
       "      <th>2</th>\n",
       "      <td>9</td>\n",
       "      <td>2024-02-18</td>\n",
       "      <td>191.48</td>\n",
       "      <td>3</td>\n",
       "    </tr>\n",
       "    <tr>\n",
       "      <th>7</th>\n",
       "      <td>3</td>\n",
       "      <td>2022-07-19</td>\n",
       "      <td>198.85</td>\n",
       "      <td>2</td>\n",
       "    </tr>\n",
       "    <tr>\n",
       "      <th>9</th>\n",
       "      <td>7</td>\n",
       "      <td>2023-12-17</td>\n",
       "      <td>57.29</td>\n",
       "      <td>2</td>\n",
       "    </tr>\n",
       "    <tr>\n",
       "      <th>10</th>\n",
       "      <td>1</td>\n",
       "      <td>2022-03-06</td>\n",
       "      <td>197.75</td>\n",
       "      <td>2</td>\n",
       "    </tr>\n",
       "  </tbody>\n",
       "</table>\n",
       "</div>"
      ],
      "text/plain": [
       "         CustomerID   OrderDate TotalAmount Number of Products\n",
       "OrderID                                                       \n",
       "1                 5  2021-07-23      110.16                  3\n",
       "2                 9  2024-02-18      191.48                  3\n",
       "7                 3  2022-07-19      198.85                  2\n",
       "9                 7  2023-12-17       57.29                  2\n",
       "10                1  2022-03-06      197.75                  2"
      ]
     },
     "execution_count": 34,
     "metadata": {},
     "output_type": "execute_result"
    }
   ],
   "source": [
    "cursor.execute(\"\"\"\n",
    "SELECT Orders.*, OrdersQuantity.Quantity FROM Orders\n",
    "INNER JOIN\n",
    "(SELECT OrderID, SUM(Quantity) AS Quantity\n",
    "    FROM OrderDetails\n",
    "    GROUP BY OrderID) AS OrdersQuantity\n",
    "ON Orders.OrderID=OrdersQuantity.OrderID\n",
    "WHERE OrdersQuantity.Quantity>1;\n",
    "\"\"\")\n",
    "data = cursor.fetchall()\n",
    "df = pd.DataFrame(data=data, columns=[\"OrderID\", \"CustomerID\", \"OrderDate\", \"TotalAmount\", \"Number of Products\"])\n",
    "df.set_index(\"OrderID\")"
   ]
  },
  {
   "cell_type": "markdown",
   "metadata": {},
   "source": [
    "2.3. Find the total sales amount for each customer."
   ]
  },
  {
   "cell_type": "code",
   "execution_count": null,
   "metadata": {},
   "outputs": [],
   "source": [
    "cursor.execute(\"\"\"\n",
    "SELECT Orders.*, OrdersQuantity.Quantity FROM Orders\n",
    "INNER JOIN\n",
    "(SELECT OrderID, SUM(Quantity) AS Quantity\n",
    "    FROM OrderDetails\n",
    "    GROUP BY OrderID) AS OrdersQuantity\n",
    "ON Orders.OrderID=OrdersQuantity.OrderID\n",
    "WHERE OrdersQuantity.Quantity>1;\n",
    "\"\"\")\n",
    "data = cursor.fetchall()\n",
    "df = pd.DataFrame(data=data, columns=[\"OrderID\", \"CustomerID\", \"OrderDate\", \"TotalAmount\", \"Number of Products\"])\n",
    "df.set_index(\"OrderID\")cursor.execute(\"\"\"\n"
   ]
  },
  {
   "cell_type": "markdown",
   "metadata": {},
   "source": [
    "#### Aggregation and Grouping"
   ]
  },
  {
   "cell_type": "markdown",
   "metadata": {},
   "source": [
    "3.1. Calculate the total revenue generated by each product category."
   ]
  },
  {
   "cell_type": "markdown",
   "metadata": {},
   "source": [
    "3.2. Determine the average order value."
   ]
  },
  {
   "cell_type": "markdown",
   "metadata": {},
   "source": [
    "3.3. Find the month with the highest number of orders."
   ]
  },
  {
   "cell_type": "markdown",
   "metadata": {},
   "source": [
    "#### Subqueries and Nested Queries"
   ]
  },
  {
   "cell_type": "markdown",
   "metadata": {},
   "source": [
    "4.1. Identify customers who have not placed any orders."
   ]
  },
  {
   "cell_type": "markdown",
   "metadata": {},
   "source": [
    "4.2. Find products that have never been ordered."
   ]
  },
  {
   "cell_type": "markdown",
   "metadata": {},
   "source": [
    "4.3. Show the top 3 best-selling products."
   ]
  },
  {
   "cell_type": "markdown",
   "metadata": {},
   "source": [
    "#### Date and Time Functions"
   ]
  },
  {
   "cell_type": "markdown",
   "metadata": {},
   "source": [
    "5.1. List orders placed in the last month."
   ]
  },
  {
   "cell_type": "markdown",
   "metadata": {},
   "source": [
    "5.2. Determine the oldest customer in terms of membership duration."
   ]
  },
  {
   "cell_type": "markdown",
   "metadata": {},
   "source": [
    "#### Advanced Queries"
   ]
  },
  {
   "cell_type": "markdown",
   "metadata": {},
   "source": [
    "6.1. Rank customers based on their total spending."
   ]
  },
  {
   "cell_type": "markdown",
   "metadata": {},
   "source": [
    "6.2. Identify the most popular product category."
   ]
  },
  {
   "cell_type": "markdown",
   "metadata": {},
   "source": [
    "6.3. Calculate the month-over-month growth rate in sales."
   ]
  },
  {
   "cell_type": "markdown",
   "metadata": {},
   "source": [
    "#### Data Manipulation and Updates"
   ]
  },
  {
   "cell_type": "markdown",
   "metadata": {},
   "source": [
    "7.1. Add a new customer to the Customers table."
   ]
  },
  {
   "cell_type": "markdown",
   "metadata": {},
   "source": [
    "7.2. Update the price of a specific product."
   ]
  },
  {
   "cell_type": "markdown",
   "metadata": {},
   "source": [
    "# copy to csv-file"
   ]
  },
  {
   "cell_type": "code",
   "execution_count": 12,
   "metadata": {},
   "outputs": [],
   "source": [
    "# rows = cursor.fetchall()\n",
    "fp = open('./test.csv', 'w') ##different path but you get the idea\n",
    "myFile = csv.writer(fp, lineterminator='\\n')\n",
    "myFile.writerows(data)\n",
    "fp.close()"
   ]
  }
 ],
 "metadata": {
  "kernelspec": {
   "display_name": "Python 3",
   "language": "python",
   "name": "python3"
  },
  "language_info": {
   "codemirror_mode": {
    "name": "ipython",
    "version": 3
   },
   "file_extension": ".py",
   "mimetype": "text/x-python",
   "name": "python",
   "nbconvert_exporter": "python",
   "pygments_lexer": "ipython3",
   "version": "3.10.4"
  }
 },
 "nbformat": 4,
 "nbformat_minor": 2
}
